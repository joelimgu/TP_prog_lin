{
 "cells": [
  {
   "cell_type": "markdown",
   "metadata": {},
   "source": [
    "# Programmation linéaire - Travaux pratiques"
   ]
  },
  {
   "cell_type": "markdown",
   "metadata": {},
   "source": [
    "**<font color=\"red\">Groupe :</font>** 3 MIC B / 3 MIC C / 3 MIC D\n",
    "\n",
    "**<font color=\"red\">Étudiants :</font>** Nom Prénom / Nom Prénom / ..."
   ]
  },
  {
   "cell_type": "markdown",
   "metadata": {},
   "source": [
    "# 1. Introduction\n",
    "\n",
    "Le but de ces travaux pratiques est d'implémenter l'algorithme du simplexe en python en utilisant la méthode des dictionnaires vue en cours."
   ]
  },
  {
   "cell_type": "markdown",
   "metadata": {},
   "source": [
    "## 1.1. Rappels de cours\n",
    "\n",
    "Soit le programme linéaire $(\\mathcal{P})$ suivant:\n",
    "\n",
    "$$\n",
    "\\mathcal{P}=\\left(\\begin{array}{rrrlrlrl}\n",
    "\\max & z = & 4 x_1 & + &  3x_2 & \\\\\n",
    "s.c. & & x_1 & &  &  \\leq & 8 \\\\\n",
    "& & x_1 &  +  & 2x_2 & \\leq & 15 \\\\\n",
    "& & 2x_1&  + & x_2 & \\leq & 18 \\\\\n",
    "& & \\rlap{x_j \\geq 0 \\quad j= 1,2}\n",
    "\\end{array}\\right.\n",
    "$$\n",
    "\n",
    "**Exercice :** Mettre le problème sous forme standard (contraintes d'égalité)."
   ]
  },
  {
   "cell_type": "markdown",
   "metadata": {},
   "source": [
    "**<font color=\"red\">Réponse étudiant(e)s:</font>**"
   ]
  },
  {
   "cell_type": "markdown",
   "metadata": {},
   "source": [
    "**Exercice :** Donner une base évidente pour le problème ci-dessus."
   ]
  },
  {
   "cell_type": "markdown",
   "metadata": {},
   "source": [
    "**<font color=\"red\">Réponse étudiant(e)s:</font>**"
   ]
  },
  {
   "cell_type": "markdown",
   "metadata": {},
   "source": [
    "**Exercice :** Écrire le dictionnaire correspondant à la base de la question précédente."
   ]
  },
  {
   "cell_type": "markdown",
   "metadata": {},
   "source": [
    "**<font color=\"red\">Réponse étudiant(e)s:</font>**"
   ]
  },
  {
   "cell_type": "markdown",
   "metadata": {},
   "source": [
    "## 1.2 &mdash; Implémentation des dictionnaires en python\n",
    "\n",
    "### 1.2.1. La structure python `simplex_dictionary`\n",
    "\n",
    "Nous allons utilisés la structure `simplex_dictionary` afin de représenter un dictionnaire du simplex en python en python.\n",
    "Cette structure est fournie par le package `simplex` qui peut être installé en exécutant la cellule ci-dessous.\n",
    "\n",
    "<div class=\"alert alert-block alert-info\">\n",
    "    \n",
    "Il est indispensable de vérifier que le package `simplex` a été installé correctement et que la classe `simplex_dictionary`\n",
    "est disponible avant de passer à la suite.\n",
    "Si la cellule s'exécute sans erreurs, c'est que la classe a été importée correctement.\n",
    "</div>\n",
    "\n",
    "<div class=\"alert alert-block alert-warning\">\n",
    "    <b>Attention !</b> Il existe une structure <code>dict</code> très courante en python appelée « dictionary », qui est\n",
    "    utilisée dans la classe <code>simplex_dictionary</code> pour stocker certaines valeurs. À ne pas confondre avec\n",
    "    notre classe <code>simplex_dictionary</code>.\n",
    "</div>"
   ]
  },
  {
   "cell_type": "code",
   "execution_count": 1,
   "metadata": {
    "scrolled": true
   },
   "outputs": [],
   "source": [
    "# Install the small simplex package:\n",
    "# !pip install --user git+https://gitea.typename.fr/mikael.capelle/simplex.git\n",
    "    \n",
    "# Import the simplex_dictionary class:\n",
    "from simplex import simplex_dictionary\n",
    "import copy"
   ]
  },
  {
   "cell_type": "markdown",
   "metadata": {},
   "source": [
    "### 1.2.2. Création d'un dictionnaire en python\n",
    "\n",
    "Soit le programme linéaire suivant sous forme normale:\n",
    "\n",
    "$$\n",
    "\\begin{array}{rrrlrlrlrlrlrl}\n",
    "\\max & z = & 3 x_1 & + & 2 x_2 &   &     &   &    \\\\\n",
    "s.c.     & & 2 x_1 & + &   x_2 & + & x_3 & = & 18  \\\\\n",
    "         & & 2 x_1 & + & 3 x_2 & + & x_4 & = & 42 \\\\\n",
    "         & & 3 x_1 & + &   x_2 & + & x_5 & = & 24 \\\\\n",
    "& & \\rlap{x_j \\geq 0 \\quad j= 1, 2, 3, 4, 5}\n",
    "\\end{array}\n",
    "$$\n",
    "\n",
    "Ce programme possède une base évidente $\\mathcal{B}_0$ composée des variables d'écarts $\\mathcal{B}_0 = (x_4, x_5, x_6)$. On peut donc écrire le dictionaire suivant:\n",
    "\n",
    "$$\n",
    "\\begin{array}{lrlrlrlrlrlr}\n",
    " z  & = &  0 & + & 3x_1 & + & 2x_2 \\\\\n",
    "x_3 & = & 18 & - & 2x_1 & - &  x_2 \\\\\n",
    "x_4 & = & 42 & - & 2x_1 & - & 3x_2 \\\\\n",
    "x_5 & = & 24 & - & 3x_1 & - &  x_2\n",
    "\\end{array}\n",
    "$$\n",
    "\n",
    "Ou sous forme de tableau:\n",
    "\n",
    "$$\n",
    "\\begin{array}{r||r|r|r|r|}\n",
    " & b & x_1 & x_2 \\\\\\hline\n",
    " x_3 & 18 & -2 & -1\\\\\n",
    " x_4 & 42 & -2 & -3\\\\\n",
    " x_5 & 24 & -3 & -1 \\\\\\hline\\hline\n",
    " z & 0 & 3 & 2\\\\\\hline\n",
    "\\end{array}\n",
    "$$\n",
    "\n",
    "Le code python ci-dessous permet de créer un dictionnaire python (`simplex_dictionary`) représentant le dictionnaire ci-dessus.\n",
    "\n",
    "<div class=\"alert alert-block alert-info\">\n",
    "    \n",
    "Il est possible d'afficher un object `simplex_dictionary` sous forme mathématique via la méthode\n",
    "`.display()`. \n",
    "Pour obtenir un affiche cohérent, il est recommandé de nommer les variables utilisées de la forme\n",
    "`a_n` où `a` est une lettre et `n` un nombre, par exemple `x_1` ou `y_3`.\n",
    "    \n",
    "</div>"
   ]
  },
  {
   "cell_type": "code",
   "execution_count": 2,
   "metadata": {
    "scrolled": true
   },
   "outputs": [
    {
     "name": "stdout",
     "output_type": "stream",
     "text": [
      "Variables: ['x_1', 'x_2', 'x_3', 'x_4', 'x_5']\n"
     ]
    },
    {
     "data": {
      "text/latex": [
       "$\\displaystyle S_0 = \\left.\\begin{array}{r||r|r|r|r|} & b & x_{1} & x_{2}\\\\\\hline x_{3} & 18 &-2 & -1\\\\x_{4} & 42 &-2 & -3\\\\x_{5} & 24 &-3 & -1\\\\\\hline\\hline z&0&3&2\\\\\\hline\\end{array}\\right.$"
      ],
      "text/plain": [
       "<IPython.core.display.Math object>"
      ]
     },
     "metadata": {},
     "output_type": "display_data"
    }
   ],
   "source": [
    "# The list of variables:\n",
    "x1, x2, x3, x4, x5 = ('x_{}'.format(i + 1) for i in range(5)) # (\"x_1\",\"x_2\",\"x_3\",\"x_4\",\"x_5\")\n",
    "variables = [x1, x2, x3, x4, x5]\n",
    "print('Variables:', variables)\n",
    "\n",
    "# The simplex dictionary with B = (x3, x4, x5):\n",
    "sdict = simplex_dictionary(B=[x3, x4, x5], N=[x1, x2])\n",
    "\n",
    "# Set the values of the basic variables:\n",
    "sdict.b = {x3: 18, x4: 42, x5: 24}\n",
    "\n",
    "# Coefficients of the non-basic variables in the dictionary (we represent\n",
    "# the positive coefficients):\n",
    "sdict.a = {\n",
    "    x3: {x1: 2, x2: 1},\n",
    "    x4: {x1: 2, x2: 3},\n",
    "    x5: {x1: 3, x2: 1}\n",
    "}\n",
    "\n",
    "# Current value of the objective:\n",
    "sdict.z = 0\n",
    "\n",
    "# Coefficients of the non-basic variables in the objective function:\n",
    "sdict.c[x1] = 3\n",
    "sdict.c[x2] = 2\n",
    "\n",
    "# Display the dictionary:\n",
    "sdict.display(name='S_0')"
   ]
  },
  {
   "cell_type": "markdown",
   "metadata": {},
   "source": [
    "## 2. Implémentation de l'algorithme du simplexe en python\n",
    "\n",
    "### 2.1. Pré-calcul\n",
    "\n",
    "On considère maintenant le dictionnaire de l'exemple précédent :\n",
    "\n",
    "$$\n",
    "\\begin{array}{r||r|r|r|r|}\n",
    " & b & x_1 & x_2 \\\\\\hline\n",
    " x_3 & 18 & -2 & -1\\\\\n",
    " x_4 & 42 & -2 & -3\\\\\n",
    " x_5 & 24 & -3 & -1 \\\\\\hline\\hline\n",
    " z & 0 & 3 & 2\\\\\\hline\n",
    "\\end{array}\n",
    "$$\n",
    "\n",
    "**Exercice :** Trouver la variable entrante $x_k$ et sortante $x_s$, et effectuer une étape de l'algorithme\n",
    "du simplexe sur le dictionnaire ci-dessus."
   ]
  },
  {
   "cell_type": "markdown",
   "metadata": {},
   "source": [
    "Réponse:\n",
    "\n",
    "- Variable entrante: $x_1$\n",
    "\n",
    "On pose x_2 = 0 et on cherche quelle variable s'annule en prèmier:\n",
    "\n",
    "$$\n",
    "\\begin{array}{r||r|r|r|r|}\n",
    " x_1 & 8  \\\\\\hline\n",
    " x_3 & 2  \\\\\n",
    " x_4 & 26 \\\\\n",
    " x_5 & 0  \\\\\\hline\\hline\n",
    "\\end{array}\n",
    "$$\n",
    "\n",
    "$x_5$ s'annule en prèmier. D'où $x_5$ est notre variable sortante. \n",
    "\n",
    "\n",
    "$$\n",
    "\\begin{array}{rrrlrlrlrlrlrl}\n",
    "    x_1 & = & 8 & - & x_2 / 3 & + & x_3 & = & 18  \\\\\n",
    "    2 x_1 & + & 3 x_2 & + & x_4 & = & 42 \\\\\n",
    "    3 x_1 & + &   x_2 & + & x_5 & = & 24 \\\\\n",
    "\\end{array}\n",
    "$$"
   ]
  },
  {
   "cell_type": "markdown",
   "metadata": {},
   "source": [
    "**Exercice :** Construire le nouveau dictionnaire, `ndict`, obtenu après l'étape de pivotage.\n",
    "\n",
    "<div class=\"alert alert-block alert-info\">\n",
    "\n",
    "Afin d'éviter les erreurs d'arrondi inhérentes aux calculs en nombres flottants, il est impossible d'utiliser \n",
    "la classe `simplex_dictionary` avec des valeurs flottantes (par exemple `0.33`).\n",
    "Pour représenter de manière exacte des nombres rationnels en python, tel que $\\frac{1}{3}$, vous pouvez\n",
    "utiliser la class `Fraction` (du package `fractions`). Par exemple:\n",
    "\n",
    "```python\n",
    "from fractions import Fraction\n",
    "Fraction(1, 3)\n",
    "```\n",
    "\n",
    "</div>"
   ]
  },
  {
   "cell_type": "code",
   "execution_count": 3,
   "metadata": {},
   "outputs": [
    {
     "data": {
      "text/latex": [
       "$\\displaystyle \\begin{array}{r||r|r|r|r|} & b & x_{2} & x_{5}\\\\\\hline x_{1} & 8 &-\\frac{1}{3} & -\\frac{1}{3}\\\\x_{3} & 2 &-\\frac{1}{3} & \\frac{2}{3}\\\\x_{4} & 26 &-\\frac{7}{3} & \\frac{2}{3}\\\\\\hline\\hline z&24&1&-1\\\\\\hline\\end{array}$"
      ],
      "text/plain": [
       "<IPython.core.display.Math object>"
      ]
     },
     "metadata": {},
     "output_type": "display_data"
    }
   ],
   "source": [
    "from fractions import Fraction\n",
    "\n",
    "# On construit un dictionnaire avec la nouvelle base:\n",
    "ndict = simplex_dictionary(B=[x1,x3,x4], N=[x2,x5])\n",
    "\n",
    "# On définit les valeurs des variables b_i et des coefficients a_ij:\n",
    "ndict.b = {\n",
    "    x1: 8,\n",
    "    x3: 2,\n",
    "    x4: 26\n",
    "}\n",
    "ndict.a = {\n",
    "        x1: { x2: Fraction(1,3), x5: Fraction(1,3) },\n",
    "        x3: { x2: Fraction(1,3), x5: Fraction(-2,3) },\n",
    "        x4: { x2: Fraction(7,3), x5: Fraction(-2,3) }\n",
    "    }\n",
    "\n",
    "# On définit le nouvel objectif et les nouveaux coefficients:\n",
    "ndict.z = 24\n",
    "ndict.c = {\n",
    "    x5: -1,\n",
    "    x2: 1\n",
    "}\n",
    "\n",
    "# On affiche le dictionnaire:\n",
    "ndict.display()"
   ]
  },
  {
   "cell_type": "markdown",
   "metadata": {},
   "source": [
    "### 2.2. Recherche des variables entrantes et sortantes en python\n",
    "\n",
    "Nous allons maintenant implémenter les fonctions python suivantes:\n",
    "\n",
    "- `find_entering_variable` &mdash; Permet de trouver la variable entrante pour un dictionnaire donné.\n",
    "- `find_leaving_variable` &mdash; Permet de trouver la variable sortante pour un dictionnaire et une variable\n",
    "    entrante donnés.\n",
    "    \n",
    "Dans les deux cas, nous utiliserons la [règle de Bland](https://en.wikipedia.org/wiki/Bland%27s_rule) en \n",
    "cas de choix (règle du plus petit indice).\n",
    "\n",
    "Les fonctions retourneront la valeur python `None` si aucune variable n'est possible, par exemple, si\n",
    "tous les coefficients sont négatifs dans l'expression de l'objectif."
   ]
  },
  {
   "cell_type": "markdown",
   "metadata": {},
   "source": [
    "**Exercice :** Écrire la fonction `find_entering_variable` ci-dessous et vérifier qu'elle retourne $x_k$ sur le dictionnaire initial `sdict`.\n",
    "\n",
    "<div class=\"alert alert-block alert-info\">\n",
    "\n",
    "Il existe une fonction `min` en python qui fonctionne sur tous les types, et en particulier sur les \n",
    "chaînes de caractères.\n",
    "\n",
    "</div>"
   ]
  },
  {
   "cell_type": "code",
   "execution_count": 4,
   "metadata": {},
   "outputs": [
    {
     "name": "stdout",
     "output_type": "stream",
     "text": [
      "Entering variable: x_1\n"
     ]
    }
   ],
   "source": [
    "def find_entering_variable(sdict):\n",
    "    \"\"\" Retrieve the index of the next entering variable from the given\n",
    "    simplex dictionary using Bland's rule.\n",
    "    \n",
    "    Parameters:\n",
    "      - sdict The simplex dictionary to use.\n",
    "      \n",
    "    Returns: The next entering variable, or None if there\n",
    "    is none.\n",
    "    \"\"\"\n",
    "    valid_indexs = []\n",
    "    for key, val in sdict.c.items():\n",
    "        if (val >= 0):\n",
    "            valid_indexs.append(key)\n",
    "        \n",
    "    if (len(valid_indexs) > 0):\n",
    "        return min(valid_indexs)\n",
    "    else:\n",
    "        return None\n",
    "        \n",
    "\n",
    "xk = find_entering_variable(sdict)\n",
    "print('Entering variable:', xk)"
   ]
  },
  {
   "cell_type": "markdown",
   "metadata": {},
   "source": [
    "**Exercice :** Écrire la fonction `find_leaving_variable` ci-dessous et vérifier qu'elle retourne $x_s$ sur le dictionnaire initial `sdict` et $x_k$.\n",
    "\n",
    "<div class=\"alert alert-block alert-info\">\n",
    "\n",
    "Les valeurs des variables dans `b` et des coefficients dans `a` sont stockées sous forme\n",
    "d'object `fractions.Fraction` dans un `simplex_dictionary`, ce qui permet de ne pas perdre en\n",
    "précision.\n",
    "En particulier, diviser une valeur par une autre produit un autre object `fractions.Fraction`, et\n",
    "il est donc possible de comparer de manière exacte (`==`) deux nombre rationnel:\n",
    "\n",
    "```python\n",
    "a = Fraction(3, 8)\n",
    "b = Fraction(6, 14)\n",
    "\n",
    "assert a / b == Fraction(7, 8)\n",
    "```\n",
    "\n",
    "</div>"
   ]
  },
  {
   "cell_type": "code",
   "execution_count": 5,
   "metadata": {},
   "outputs": [
    {
     "name": "stdout",
     "output_type": "stream",
     "text": [
      "x_1\n",
      "Leaving variable: x_5\n"
     ]
    }
   ],
   "source": [
    "def find_leaving_variable(sdict, xk):\n",
    "    \"\"\" Retrieve the index of the next leaving variable from the given\n",
    "    simplex dictionary and entering variable using Bland's rule.\n",
    "    \n",
    "    Parameters:\n",
    "      - sdict  The simplex dictionary to use.\n",
    "      - xk     The next entering variable.\n",
    "      \n",
    "    Returns: The next leaving variable, or None if there is none (i.e., \n",
    "    the problem is unbounded).\n",
    "    \"\"\"\n",
    "    basic_vars = {}\n",
    "    print(xk)\n",
    "    for key, val in sdict.a.items():\n",
    "        basic_vars[key] = val[xk]\n",
    "    \n",
    "    min_val = None\n",
    "    leaving_var = None\n",
    "    for key, val in sdict.a.items():\n",
    "        if not(min_val):\n",
    "            min_val = Fraction(sdict.b[key],basic_vars[key])\n",
    "            leaving_var = key\n",
    "        elif min_val > Fraction(sdict.b[key],basic_vars[key]):\n",
    "            min_val = Fraction(sdict.b[key],basic_vars[key])\n",
    "            leaving_var = key\n",
    "    return leaving_var\n",
    "\n",
    "\n",
    "xs = find_leaving_variable(sdict, xk)\n",
    "print('Leaving variable:', xs)"
   ]
  },
  {
   "cell_type": "markdown",
   "metadata": {},
   "source": [
    "### 2.3. Pivot du dictionnaire à partir des variables entrantes et sortantes en python\n",
    "\n",
    "**Exercice :** Écrire la fonction `pivot_dictionary` ci-dessous."
   ]
  },
  {
   "cell_type": "code",
   "execution_count": 6,
   "metadata": {},
   "outputs": [],
   "source": [
    "def pivot_dictionary(sdict, xk, xs):\n",
    "    \"\"\" Pivot the given dictionary on the given row / column and creates a new one. \n",
    "    \n",
    "    Parameters:\n",
    "      - sdict  The simplex dictionary to use.\n",
    "      - xk     The entering variable.\n",
    "      - xs     The leaving variable.\n",
    "      \n",
    "    Returns: A new simplex dictionary after the pivot operation. \n",
    "    \"\"\"\n",
    "    d = copy.copy(sdict)\n",
    "    \n",
    "    # 1. Touver une eq avec xk et xs\n",
    "    f = d.a[xs] # expresion de xs en fonction de xk    \n",
    "    \n",
    "    \n",
    "    \n",
    "    # 2. Isoler xk pour exprimer xk = f(xs,...)\n",
    "    # xs = a*xk + b*xi\n",
    "    # xs/a-b*xi/a = xk\n",
    "    a = f.pop(xk) # gets and removes the entering variable\n",
    "    b, xi = f.get(next(iter(f))), next(iter(f)) # retrieves the value of the remaining one\n",
    "    print(\"a: {}, b:{}\".format(a,b))\n",
    "    xk_dict = {xs: Fraction(1,a), xi: Fraction(b,a)}\n",
    "    \n",
    "    # 3. Resoudre sys\n",
    "    temp = d.a.pop(xs)\n",
    "    for key, value in d.a:\n",
    "        if value.get(xk):\n",
    "            value.pop(xk)\n",
    "            for key2, val2 in xk_dict:\n",
    "                if value.get(key2):\n",
    "                    value[key2] = value[key2] + xk_dict[key2]\n",
    "                else:\n",
    "                    value[key2] = xk_dict[key2]\n",
    "            \n",
    "    d.a[xs] = temp\n",
    "    \n",
    "    return d"
   ]
  },
  {
   "cell_type": "markdown",
   "metadata": {},
   "source": [
    " **Exercie:** Vérifier que l'appel `pivot_dictionary(sdict, xk, xs)` retourne bien le dictionnaire trouver à la section **2.1**."
   ]
  },
  {
   "cell_type": "code",
   "execution_count": 7,
   "metadata": {},
   "outputs": [
    {
     "name": "stdout",
     "output_type": "stream",
     "text": [
      "x_1\n",
      "a: 3, b:x_2\n"
     ]
    },
    {
     "ename": "TypeError",
     "evalue": "both arguments should be Rational instances",
     "output_type": "error",
     "traceback": [
      "\u001b[0;31m---------------------------------------------------------------------------\u001b[0m",
      "\u001b[0;31mTypeError\u001b[0m                                 Traceback (most recent call last)",
      "\u001b[0;32m<ipython-input-7-c19f480e699d>\u001b[0m in \u001b[0;36m<module>\u001b[0;34m\u001b[0m\n\u001b[1;32m      1\u001b[0m \u001b[0mxk\u001b[0m \u001b[0;34m=\u001b[0m \u001b[0mfind_entering_variable\u001b[0m\u001b[0;34m(\u001b[0m\u001b[0msdict\u001b[0m\u001b[0;34m)\u001b[0m\u001b[0;34m\u001b[0m\u001b[0;34m\u001b[0m\u001b[0m\n\u001b[1;32m      2\u001b[0m \u001b[0mxs\u001b[0m \u001b[0;34m=\u001b[0m \u001b[0mfind_leaving_variable\u001b[0m\u001b[0;34m(\u001b[0m\u001b[0msdict\u001b[0m\u001b[0;34m,\u001b[0m \u001b[0mxk\u001b[0m\u001b[0;34m)\u001b[0m\u001b[0;34m\u001b[0m\u001b[0;34m\u001b[0m\u001b[0m\n\u001b[0;32m----> 3\u001b[0;31m \u001b[0mndict\u001b[0m \u001b[0;34m=\u001b[0m \u001b[0mpivot_dictionary\u001b[0m\u001b[0;34m(\u001b[0m\u001b[0msdict\u001b[0m\u001b[0;34m,\u001b[0m \u001b[0mxk\u001b[0m\u001b[0;34m,\u001b[0m \u001b[0mxs\u001b[0m\u001b[0;34m)\u001b[0m\u001b[0;34m\u001b[0m\u001b[0;34m\u001b[0m\u001b[0m\n\u001b[0m\u001b[1;32m      4\u001b[0m \u001b[0mndict\u001b[0m\u001b[0;34m.\u001b[0m\u001b[0mdisplay\u001b[0m\u001b[0;34m(\u001b[0m\u001b[0;34m)\u001b[0m\u001b[0;34m\u001b[0m\u001b[0;34m\u001b[0m\u001b[0m\n",
      "\u001b[0;32m<ipython-input-6-9721e9ddd091>\u001b[0m in \u001b[0;36mpivot_dictionary\u001b[0;34m(sdict, xk, xs)\u001b[0m\n\u001b[1;32m     22\u001b[0m     \u001b[0mxi\u001b[0m\u001b[0;34m,\u001b[0m \u001b[0mb\u001b[0m \u001b[0;34m=\u001b[0m \u001b[0mf\u001b[0m\u001b[0;34m.\u001b[0m\u001b[0mget\u001b[0m\u001b[0;34m(\u001b[0m\u001b[0mnext\u001b[0m\u001b[0;34m(\u001b[0m\u001b[0miter\u001b[0m\u001b[0;34m(\u001b[0m\u001b[0mf\u001b[0m\u001b[0;34m)\u001b[0m\u001b[0;34m)\u001b[0m\u001b[0;34m)\u001b[0m\u001b[0;34m,\u001b[0m \u001b[0mnext\u001b[0m\u001b[0;34m(\u001b[0m\u001b[0miter\u001b[0m\u001b[0;34m(\u001b[0m\u001b[0mf\u001b[0m\u001b[0;34m)\u001b[0m\u001b[0;34m)\u001b[0m \u001b[0;31m# retrieves the value of the remaining one\u001b[0m\u001b[0;34m\u001b[0m\u001b[0;34m\u001b[0m\u001b[0m\n\u001b[1;32m     23\u001b[0m     \u001b[0mprint\u001b[0m\u001b[0;34m(\u001b[0m\u001b[0;34m\"a: {}, b:{}\"\u001b[0m\u001b[0;34m.\u001b[0m\u001b[0mformat\u001b[0m\u001b[0;34m(\u001b[0m\u001b[0ma\u001b[0m\u001b[0;34m,\u001b[0m\u001b[0mb\u001b[0m\u001b[0;34m)\u001b[0m\u001b[0;34m)\u001b[0m\u001b[0;34m\u001b[0m\u001b[0;34m\u001b[0m\u001b[0m\n\u001b[0;32m---> 24\u001b[0;31m     \u001b[0mxk_dict\u001b[0m \u001b[0;34m=\u001b[0m \u001b[0;34m{\u001b[0m\u001b[0mxs\u001b[0m\u001b[0;34m:\u001b[0m \u001b[0mFraction\u001b[0m\u001b[0;34m(\u001b[0m\u001b[0;36m1\u001b[0m\u001b[0;34m,\u001b[0m\u001b[0ma\u001b[0m\u001b[0;34m)\u001b[0m\u001b[0;34m,\u001b[0m \u001b[0mxi\u001b[0m\u001b[0;34m:\u001b[0m \u001b[0mFraction\u001b[0m\u001b[0;34m(\u001b[0m\u001b[0mb\u001b[0m\u001b[0;34m,\u001b[0m\u001b[0ma\u001b[0m\u001b[0;34m)\u001b[0m\u001b[0;34m}\u001b[0m\u001b[0;34m\u001b[0m\u001b[0;34m\u001b[0m\u001b[0m\n\u001b[0m\u001b[1;32m     25\u001b[0m \u001b[0;34m\u001b[0m\u001b[0m\n\u001b[1;32m     26\u001b[0m     \u001b[0;31m# 3. Resoudre sys\u001b[0m\u001b[0;34m\u001b[0m\u001b[0;34m\u001b[0m\u001b[0m\n",
      "\u001b[0;32m/usr/lib/python3.9/fractions.py\u001b[0m in \u001b[0;36m__new__\u001b[0;34m(cls, numerator, denominator, _normalize)\u001b[0m\n\u001b[1;32m    150\u001b[0m                 )\n\u001b[1;32m    151\u001b[0m         \u001b[0;32melse\u001b[0m\u001b[0;34m:\u001b[0m\u001b[0;34m\u001b[0m\u001b[0;34m\u001b[0m\u001b[0m\n\u001b[0;32m--> 152\u001b[0;31m             raise TypeError(\"both arguments should be \"\n\u001b[0m\u001b[1;32m    153\u001b[0m                             \"Rational instances\")\n\u001b[1;32m    154\u001b[0m \u001b[0;34m\u001b[0m\u001b[0m\n",
      "\u001b[0;31mTypeError\u001b[0m: both arguments should be Rational instances"
     ]
    }
   ],
   "source": [
    "xk = find_entering_variable(sdict)\n",
    "xs = find_leaving_variable(sdict, xk)\n",
    "ndict = pivot_dictionary(sdict, xk, xs)\n",
    "ndict.display()"
   ]
  },
  {
   "cell_type": "markdown",
   "metadata": {},
   "source": [
    "### 2.4. Algorithme du simplex (une phase) en python\n",
    "\n",
    "**Exercice :** Écrire la méthode `simplex_single_phase` ci-dessous qui, à partir d'un dictionnaire `sdict` (que l'on considéra valide, i.e., $b_i \\geq 0, \\forall i\\in\\mathcal{B}$), retourne le dictionnaire final de l'algorithme.\n",
    "\n",
    "<div class=\"alert alert-block alert-info\">\n",
    "\n",
    "N'hésitez pas à afficher les dictionnaires intermédaires via la\n",
    "méthode `.display()` pour visualiser l'évolution de l'algorithme.\n",
    "\n",
    "</div>"
   ]
  },
  {
   "cell_type": "code",
   "execution_count": null,
   "metadata": {},
   "outputs": [],
   "source": [
    "def simplex_single_phase(sdict, log=True):\n",
    "    \"\"\" Apply the simplex algorithm on the given dictionary.\n",
    "    \n",
    "    Parameters:\n",
    "      - sdict  The initial dictionary to start the algorithm. Must be valid.\n",
    "      \n",
    "    Return: A tuple (z, dict) containing the value of the objective (or None is the problem\n",
    "    is not bounded), and the final dictionary (or any dictionary if the problem is unbounded).\n",
    "    \"\"\"\n",
    "    pass"
   ]
  },
  {
   "cell_type": "markdown",
   "metadata": {},
   "source": [
    "**Exercice :** Vérifier que votre méthode `simplex_single_phase` trouve bien la solution optimale pour le \n",
    "problème défini dans la section **2.1**."
   ]
  },
  {
   "cell_type": "code",
   "execution_count": null,
   "metadata": {},
   "outputs": [],
   "source": [
    "z, d = simplex_single_phase(sdict)"
   ]
  },
  {
   "attachments": {
    "simplex_2_phases.PNG": {
     "image/png": "[encoded data removed]"
    }
   },
   "cell_type": "markdown",
   "metadata": {},
   "source": [
    "## 3. Implémentation de l'algorithme du simplexe en 2 phases en python\n",
    "\n",
    "### 3.1. Pré-calcul\n",
    "\n",
    "On considère maintenant le programme linéaire suivant :\n",
    "\n",
    "$$\n",
    "\\mathcal{P}=\\left(\\begin{array}{rrrlrlrl}\n",
    "\\max & z = & - x_1 & - &  x_2 & \\\\\n",
    "s.c. & & -3x_1 & - & 4x_2 &  \\leq & -12 \\\\\n",
    "& & 2x_1 &  +  & x_2 & \\leq & 4 \\\\\n",
    "& & \\rlap{x_j \\geq 0 \\quad j= 1,2}\n",
    "\\end{array}\\right.\n",
    "$$\n",
    "\n",
    "Dont la représentation graphique est donnée ci-dessous:\n",
    "    \n",
    "![simplex_2_phases.PNG](attachment:simplex_2_phases.PNG)\n",
    "        \n",
    "Le problème sous forme normale s'écrit :\n",
    "\n",
    "$$\n",
    "\\mathcal{P}=\\left(\\begin{array}{rrrlrlrlrl}\n",
    "\\max & z = & - x_1 & - &  x_2 & & & \\\\\n",
    "s.c. & & -3x_1 & - & 4x_2 & + & x_3 & = & -12 \\\\\n",
    "& & 2x_1 &  +  & x_2 & + & x_4 & = & 4 \\\\\n",
    "& & \\rlap{x_j \\geq 0 \\quad j= 1,2,3,4}\n",
    "\\end{array}\\right.\n",
    "$$\n",
    "\n",
    "La base $\\mathcal{B} = \\{x_3, x_4\\}$ n'est pas donc pas une base réalisable, mais on peut tout de même \n",
    "écrire un dictionnaire pour cette base:\n",
    "\n",
    "$$\n",
    "\\begin{array}{r||r|r|r|r|}\n",
    " & b & x_1 & x_2 \\\\\\hline\n",
    " x_3 & -12 & 3 & 4\\\\\n",
    " x_4 & 4 & -2 & -1\\\\\n",
    " z & 0 & -1 & -1\\\\\\hline\n",
    "\\end{array}\n",
    "$$\n",
    "\n",
    "**Exercice :** Construire en python le dictionnaire ci-dessus."
   ]
  },
  {
   "cell_type": "code",
   "execution_count": null,
   "metadata": {},
   "outputs": [],
   "source": []
  },
  {
   "cell_type": "markdown",
   "metadata": {},
   "source": [
    "### 3.2. Vérification d'un dictionnaire\n",
    "\n",
    "On souhaite maintenant écrire une fonction `is_valid_dictionary` qui vérifie qu'une dictionnaire est valide, i.e., que toutes les variables de bases sont positives ou nulles.\n",
    "\n",
    "**Exercice :** Écrire la fonction `is_valid_dictionary` et vérifier qu'elle retourne `False` pour le dictionnaire défini ci-dessus."
   ]
  },
  {
   "cell_type": "code",
   "execution_count": null,
   "metadata": {},
   "outputs": [],
   "source": [
    "def is_valid_dictionary(sdict):\n",
    "    \"\"\" Check if the given dictionary is valid, i.e., if all the basic variables are positive or 0.\n",
    "    \n",
    "    Parameters:\n",
    "      - sdict  The dictionary to check.\n",
    "      \n",
    "    Return: True if the dictionary is valid, false otherwise.\n",
    "    \"\"\"\n",
    "    pass\n",
    "\n",
    "is_valid_dictionary(sdict)"
   ]
  },
  {
   "cell_type": "markdown",
   "metadata": {},
   "source": [
    "### 3.3. Recherche d'un dictionnaire initial valide\n",
    "\n",
    "Puisque le dictionnaire que l'on a construire à partir de la base triviale composée des variables d'écart\n",
    "n'est pas valide, il faut en trouver un valide, ou s'assurer qu'il n'en existe pas, auquel cas le problème\n",
    "original serait infaisable.\n",
    "\n",
    "Afin de trouver un dictionnaire valide, nous allons utiliser un programme linéaire auxiliaire en décomposant\n",
    "les variables d'écarts négatives en deux variables, e.g., $x_3' = x_3 - y$.\n",
    "\n",
    "**Exercice :** Écrire le programme linéaire auxiliaire correspond au problème sous forme normale ci-dessus, \n",
    "et le dictionnaire correspondant."
   ]
  },
  {
   "cell_type": "markdown",
   "metadata": {},
   "source": [
    "**<font color=\"red\">Réponse étudiant(e)s:</font>**"
   ]
  },
  {
   "cell_type": "markdown",
   "metadata": {},
   "source": [
    "**Exercire :** Écrire la fonction `make_auxiliary_dictionary` en python qui, à partir d'un dictionnaire non-valide,\n",
    "construit le dictionnaire du programme linéaire auxiliaire associé. Vérifier que l'appel `make_auxiliary_dictionary(sdict)` retourne le dictionnaire écrit ci-dessus.\n",
    "\n",
    "\n",
    "<div class=\"alert alert-block alert-info\">\n",
    "    On nommera les variables auxiliaires $y_1$, $y_2$, $\\ldots{}$.\n",
    "</div>"
   ]
  },
  {
   "cell_type": "code",
   "execution_count": null,
   "metadata": {},
   "outputs": [],
   "source": [
    "def make_auxiliary_dictionary(sdict):\n",
    "    \"\"\" Create the initial dictionary of the auxiliary program from the given\n",
    "    dictionary.\n",
    "    \n",
    "    Parameters:\n",
    "      - sdict  The dictionary of the original linear program.\n",
    "      \n",
    "    Return: The initial dictionary of the auxiliary linear program.\n",
    "    \"\"\"\n",
    "    pass"
   ]
  },
  {
   "cell_type": "code",
   "execution_count": null,
   "metadata": {},
   "outputs": [],
   "source": [
    "ndict = make_auxiliary_dictionary(sdict)\n",
    "ndict.display()"
   ]
  },
  {
   "cell_type": "markdown",
   "metadata": {},
   "source": [
    "**Exercice :** En utilisant la fonction `simplex_single_phase` définie dans la section précédente, \n",
    "résoudre le problème auxiliaire."
   ]
  },
  {
   "cell_type": "code",
   "execution_count": null,
   "metadata": {},
   "outputs": [],
   "source": []
  },
  {
   "cell_type": "markdown",
   "metadata": {},
   "source": [
    "### 3.4. Phase 1 de l'algorithme du simplexe\n",
    "\n",
    "\n",
    "**Question :** Comment détecte-t-on que le problème original n'a pas de solution ?"
   ]
  },
  {
   "cell_type": "markdown",
   "metadata": {},
   "source": [
    "**Exercice :** Écrire la fonction `simplex_initial_phase` qui, étant donné un dictionnaire (valide ou non), \n",
    "retourne soit un dictionnaire valide pour le problème, soit `None` si le problème est infaisable."
   ]
  },
  {
   "cell_type": "code",
   "execution_count": null,
   "metadata": {},
   "outputs": [],
   "source": [
    "def simplex_initial_phase(sdict, log=False):\n",
    "    \"\"\" Create a valid dictionary corresponding to the same problem as the given dictionary, \n",
    "    if possible.\n",
    "    \n",
    "    Parameters:\n",
    "      - sdict  The initial dictionary to start from.\n",
    "      \n",
    "    Return: A valid dictionary corresponding to the same program as sdict, or None if the linear\n",
    "    program is invalid.\n",
    "    \"\"\"\n",
    "    pass"
   ]
  },
  {
   "cell_type": "markdown",
   "metadata": {},
   "source": [
    "**Exercice:** Utiliser la méthode `simplex_initial_phase` pour obtenir un dictionnaire valide pour le problème défini dans la section **3.1**."
   ]
  },
  {
   "cell_type": "code",
   "execution_count": null,
   "metadata": {},
   "outputs": [],
   "source": []
  },
  {
   "cell_type": "markdown",
   "metadata": {},
   "source": [
    "# 4. Algorithme du simplexe en python\n",
    "\n",
    "**Exercice :** En utilisant les méthodes définies ci-dessus, écrire la fonction `simplex_algorithm` qui, à partir d'un dictionnaire (valide ou non), retourne un tuple `(z, x, d)` où `z` contient la valeur de l'objectif (maximisation), `x` un mapping (python's `dict`) entre les variables et leurs valeurs et `d` est le dictionnaire final. \n",
    "\n",
    "**Note :** On lèvera les exceptions `InfeasibleProgram` ou  `UnboundedProgram` si le problème est infaisable ou non-\n",
    "borné.\n",
    "\n",
    "<div class=\"alert alert-block alert-info\">\n",
    "    \n",
    "Pour lever une instruction en python, on utilise le mot-clé `raise`:\n",
    "\n",
    "```python\n",
    "raise InfeasibleProgram()\n",
    "```\n",
    "\n",
    "</div>"
   ]
  },
  {
   "cell_type": "code",
   "execution_count": null,
   "metadata": {},
   "outputs": [],
   "source": [
    "class InfeasibleProgram(Exception): pass\n",
    "class UnboundedProgram(Exception): pass\n",
    "\n",
    "def simplex_algorithm(sdict, log=False):\n",
    "    \"\"\" Solve the linear program corresponding to the given simplex dictionary.\n",
    "    \n",
    "    Parameters:\n",
    "      - sdict  The initial simplex dictionary. May be invalid.\n",
    "      \n",
    "    Return: A tuple (z, x, d) where z is the optimal value of the objective function, and\n",
    "    x is a mapping (python dictionary) from variables to their value.\n",
    "    \n",
    "    Raise:\n",
    "      - InfeasibleProgram if the program corresponding to the dictionary is infeasible.\n",
    "      - UnboundedProgram if the program corresponding to the dictionary is not bounded.\n",
    "    \"\"\"\n",
    "    pass"
   ]
  },
  {
   "cell_type": "code",
   "execution_count": null,
   "metadata": {},
   "outputs": [],
   "source": [
    "z, x, d = simplex_algorithm(sdict)\n",
    "d.display()"
   ]
  }
 ],
 "metadata": {
  "kernelspec": {
   "display_name": "Python 3",
   "language": "python",
   "name": "python3"
  },
  "language_info": {
   "codemirror_mode": {
    "name": "ipython",
    "version": 3
   },
   "file_extension": ".py",
   "mimetype": "text/x-python",
   "name": "python",
   "nbconvert_exporter": "python",
   "pygments_lexer": "ipython3",
   "version": "3.9.7"
  }
 },
 "nbformat": 4,
 "nbformat_minor": 4
}
